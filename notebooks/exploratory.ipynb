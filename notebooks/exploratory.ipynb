{
  "cells": [
    {
      "cell_type": "code",
      "metadata": {},
      "execution_count": null,
      "source": [
        "# Cell 1: Imports\n",
        "import numpy as np\n",
        "import pandas as pd\n",
        "import matplotlib.pyplot as plt\n",
        "import seaborn as sns\n",
        "from src.data_preprocessing import load_and_preprocess\n",
        "from src.model import build_model\n",
        "%matplotlib inline\n"
      ],
      "outputs": []
    },
    {
      "cell_type": "code",
      "metadata": {},
      "execution_count": null,
      "source": [
        "# Cell 2: Load & preview data\n",
        "X_train, X_test, y_train, y_test = load_and_preprocess()\n",
        "print(\"Training set shape:\", X_train.shape)\n",
        "sns.countplot(y_train)\n"
      ],
      "outputs": []
    },
    {
      "cell_type": "code",
      "metadata": {},
      "execution_count": null,
      "source": [
        "# Cell 3: Visualize a few digits\n",
        "fig, axes = plt.subplots(2, 5, figsize=(10,5))\n",
        "for i, ax in enumerate(axes.flatten()):\n",
        "    ax.imshow(X_train[i].reshape(28,28), cmap='gray')\n",
        "    ax.set_title(f\"Label: {y_train[i]}\")\n",
        "    ax.axis('off')\n"
      ],
      "outputs": []
    },
    {
      "cell_type": "code",
      "metadata": {},
      "execution_count": null,
      "source": [
        "# Cell 4: Train a quick model\n",
        "mlp = build_model(hidden_layer_sizes=(64,), max_iter=200)\n",
        "mlp.fit(X_train, y_train)\n"
      ],
      "outputs": []
    },
    {
      "cell_type": "code",
      "metadata": {},
      "execution_count": null,
      "source": [
        "# Cell 5: Evaluate in-notebook\n",
        "from sklearn.metrics import classification_report\n",
        "y_pred = mlp.predict(X_test)\n",
        "print(classification_report(y_test, y_pred))\n"
      ],
      "outputs": []
    },
    {
      "cell_type": "code",
      "metadata": {},
      "execution_count": null,
      "source": [
        "# Cell 6: Plot confusion matrix\n",
        "from src.evaluate import plot_confusion_matrix\n",
        "plot_confusion_matrix(y_test, y_pred, labels=list(range(10)))\n"
      ],
      "outputs": []
    }
  ],
  "metadata": {
    "kernelspec": {
      "display_name": "Python 3",
      "name": "python3"
    },
    "language_info": {
      "name": "python"
    }
  },
  "nbformat": 4,
  "nbformat_minor": 5
}